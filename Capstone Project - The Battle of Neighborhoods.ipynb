{
 "cells": [
  {
   "cell_type": "markdown",
   "metadata": {},
   "source": [
    "# Capstone Project - The Battle of Neighborhoods\n",
    "***\n",
    "## Poutine in Toronto"
   ]
  },
  {
   "cell_type": "markdown",
   "metadata": {},
   "source": [
    "## Introduction"
   ]
  },
  {
   "cell_type": "markdown",
   "metadata": {},
   "source": [
    "Poutine, a Canadian dish made of french fries topped with cheese curds and a brown gravy. It first appeared in 1950s rural Québec snack bars. For many years, it was perceived negatively and mocked, and even used by some to stigmatize Quebec society. Poutine later became celebrated as a symbol of Québécois cultural pride and was widely popularized across Canada and beyond in the 1990s. Poutine may be found everywhere from fine dining menus at top restaurants to fast-food chains. It has become a symbol of Québécois and Canadian cuisine and culture."
   ]
  },
  {
   "cell_type": "markdown",
   "metadata": {},
   "source": [
    "This project explores which neighborhoods of Toronto have the most as well as the best poutine. Additionally, I will attempt to answer the questions \"Where should I open a restaurant served mainly poutine?\" and \"Where should I stay if I want great poutine?\""
   ]
  },
  {
   "cell_type": "markdown",
   "metadata": {},
   "source": [
    "### Target Audience"
   ]
  },
  {
   "cell_type": "markdown",
   "metadata": {},
   "source": [
    "Below clients or people would interested in this project:\n",
    "\n",
    "> 1. Business personnel who wants to invest or open a poutine restaurant. This analysis will be a guide to start or expand restaurants targeting poutine lovers and tourists.\n",
    "   \n",
    "> 2. Poutine lovers. This analysis will give an idea on where to get the best poutine in Toronto."
   ]
  },
  {
   "cell_type": "markdown",
   "metadata": {},
   "source": [
    "## Data"
   ]
  },
  {
   "cell_type": "markdown",
   "metadata": {},
   "source": [
    "In order to answer the above questions, data on Toronto neighborhoods including geocoordinates and information related to poutine restaurants.   \n",
    "  \n",
    "The neighborhood data is not not readily available on the internet. We will first scrape the following Wikipedia page,  https://en.wikipedia.org/wiki/List_of_postal_codes_of_Canada:_M, and then include the geocoordinates of each neighborhood by downloading the geographical coordinates of each postal from http://cocl.us/Geospatial_data.\n",
    "\n",
    "\n",
    "All data related to locations and quality of poutine restaurants will be obtained via the FourSquare API utilized via the Request library in Python."
   ]
  },
  {
   "cell_type": "code",
   "execution_count": null,
   "metadata": {},
   "outputs": [],
   "source": []
  }
 ],
 "metadata": {
  "kernelspec": {
   "display_name": "Python 3",
   "language": "python",
   "name": "python3"
  },
  "language_info": {
   "codemirror_mode": {
    "name": "ipython",
    "version": 3
   },
   "file_extension": ".py",
   "mimetype": "text/x-python",
   "name": "python",
   "nbconvert_exporter": "python",
   "pygments_lexer": "ipython3",
   "version": "3.7.1"
  }
 },
 "nbformat": 4,
 "nbformat_minor": 2
}
